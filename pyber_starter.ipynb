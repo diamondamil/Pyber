{
 "cells": [
  {
   "cell_type": "code",
   "execution_count": null,
   "metadata": {},
   "outputs": [],
   "source": [
    "%matplotlib inline\n",
    "# Dependencies and Setup\n",
    "import matplotlib.pyplot as plt\n",
    "import pandas as pd\n",
    "import numpy as np\n",
    "\n",
    "# File to Load (Remember to change these)\n",
    "city_data_to_load = \"data/city_data.csv\"\n",
    "ride_data_to_load = \"data/ride_data.csv\"\n",
    "\n",
    "\n"
   ]
  },
  {
   "cell_type": "code",
   "execution_count": null,
   "metadata": {
    "scrolled": true
   },
   "outputs": [],
   "source": [
    "#city_data = pd.read_csv(\"data/city_data.csv\")\n",
    "#city_data.head()\n",
    "\n",
    "\n",
    "# Read the City and Ride Data\n",
    "city_data = pd.read_csv(city_data_to_load)\n",
    "ride_data = pd.read_csv(ride_data_to_load)\n",
    "\n",
    "\n",
    "#grpRide = ride.groupby([\"city\"])\n",
    "#avgFare=round(grpRide[\"fare\"].mean(),2)\n",
    "#sumRides=grpRide[\"ride_id\"].count()\n",
    "#sumRides.head()\n",
    "\n",
    "# Combine the data into a single dataset\n",
    "ridecity_df = pd.merge(city_data,ride_data,on=\"city\")\n",
    "ridecity_df.head()\n",
    "\n",
    "# Display the data table for preview\n",
    "\n",
    "#rideSum = pd.DataFrame({\"Avg Fare\":avgFare,\"Total Rides\":sumRides})\n",
    "#rideSum = rideSum.reset_index()\n",
    "#data=pd.merge(city,rideSum,on=\"city\")\n",
    "#data.sort_values(\"Total Rides\", ascending=False).head()\n",
    "\n",
    "\n",
    "#city_data = pd.read_csv(\"data/city_data.csv\")\n",
    "#city_data.head()\n",
    "\n",
    "# Combine the data into a single dataset\n",
    "\n",
    "# Display the data table for preview\n"
   ]
  },
  {
   "cell_type": "markdown",
   "metadata": {},
   "source": [
    "## Bubble Plot of Ride Sharing Data"
   ]
  },
  {
   "cell_type": "code",
   "execution_count": null,
   "metadata": {},
   "outputs": [],
   "source": [
    "# Obtain the x and y coordinates for each of the three city types\n",
    "urban_df = ridecity_df[ridecity_df[\"type\"]==\"Urban\"]\n",
    "suburban_df = ridecity_df[ridecity_df[\"type\"]==\"Suburban\"]\n",
    "rural_df = ridecity_df[ridecity_df[\"type\"]==\"Rural\"]\n",
    "\n",
    "#circle size correlates to driver count per city (each circle is one city)\n",
    "urban_rides = urban_df.groupby([\"city\"]).count()[\"ride_id\"] #giving us the count of rides based on the ride id\n",
    "suburban_rides = suburban_df.groupby([\"city\"]).count()[\"ride_id\"]\n",
    "rural_rides = rural_df.groupby([\"city\"]).count()[\"ride_id\"]\n",
    "\n",
    "rural_fare = rural_df.groupby([\"city\"]).mean()[\"fare\"]\n",
    "suburban_fare = suburban_df.groupby([\"city\"]).mean()[\"fare\"]\n",
    "urban_fare = urban_df.groupby([\"city\"]).mean()[\"fare\"]\n",
    "\n",
    "rural_drivercount = rural_df.groupby([\"city\"]).mean()[\"driver_count\"] #we still use mean function because we want to use the driver count number(38) not add them\n",
    "suburban_drivercount = suburban_df.groupby([\"city\"]).mean()[\"driver_count\"]\n",
    "urban_drivercount = urban_df.groupby([\"city\"]).mean()[\"driver_count\"]\n",
    "\n",
    "# Build the scatter plots for each city types\n",
    "plt.scatter(urban_rides,urban_fare, s=5*urban_drivercount, c=\"salmon\",marker= \"o\", label= \"Urban\", edgecolors=\"black\" )\n",
    "plt.scatter(suburban_rides,suburban_fare, s=5*suburban_drivercount, c=\"cornflowerblue\",marker= \"o\", label= \"Suburban\", edgecolors=\"black\")\n",
    "plt.scatter(rural_rides,rural_fare, s=5*rural_drivercount, c=\"gold\",marker= \"o\", label= \"Rural\",edgecolors=\"black\" )\n",
    "\n",
    "\n",
    "# Incorporate the other graph properties\n",
    "plt.title(\"Pyber Ride Sharing Data\")\n",
    "plt.xlabel(\"Total Number of Rides\")\n",
    "plt.ylabel(\"Average Fare\")\n",
    "plt.grid(True)\n",
    "\n",
    "# Create a legend\n",
    "plt.legend(loc=\"best\", title= \"City Types\")\n",
    "\n",
    "# Incorporate a text label regarding circle size\n",
    "\n",
    "# Save Figure\n",
    "\n",
    "\n"
   ]
  },
  {
   "cell_type": "code",
   "execution_count": null,
   "metadata": {},
   "outputs": [],
   "source": [
    "# Show plot\n",
    "plt.show()"
   ]
  },
  {
   "cell_type": "markdown",
   "metadata": {},
   "source": [
    "## Total Fares by City Type"
   ]
  },
  {
   "cell_type": "code",
   "execution_count": null,
   "metadata": {},
   "outputs": [],
   "source": [
    "# Calculate Type Percents\n",
    "faretype_percent = 100*ridecity_df.groupby([\"type\"]).sum()[\"fare\"]/ridecity_df[\"fare\"].sum()\n",
    "\n",
    "\n",
    "# Data to plot\n",
    "labels = 'Urban', 'Rural', 'Suburban'\n",
    "sizes = [62.7, 6.8, 30.5]\n",
    "colors = ['salmon', 'gold', 'cornflowerblue']\n",
    "explode = (0.1, 0, 0, 0)  # explode 1st slice\n",
    " \n",
    "# Plot\n",
    "plt.pie(sizes, explode=explode, labels=labels, colors=colors,\n",
    "        autopct='%1.1f%%', shadow=True, startangle=140)\n",
    " \n",
    "plt.axis('equal')\n",
    "plt.show()\n",
    "\n",
    "# Build Pie Chart\n",
    "plot.pie(faretype_percent)\n",
    "\n",
    "# Save Figure\n"
   ]
  },
  {
   "cell_type": "code",
   "execution_count": null,
   "metadata": {},
   "outputs": [],
   "source": [
    "# Show Figure\n",
    "plt.show()"
   ]
  },
  {
   "cell_type": "markdown",
   "metadata": {},
   "source": [
    "## Total Rides by City Type"
   ]
  },
  {
   "cell_type": "code",
   "execution_count": null,
   "metadata": {},
   "outputs": [],
   "source": [
    "# Calculate Ride Percents\n",
    "\n",
    "# Build Pie Chart\n",
    "\n",
    "# Save Figure\n"
   ]
  },
  {
   "cell_type": "code",
   "execution_count": null,
   "metadata": {},
   "outputs": [],
   "source": [
    "# Show Figure\n",
    "plt.show()"
   ]
  },
  {
   "cell_type": "markdown",
   "metadata": {},
   "source": [
    "## Total Drivers by City Type"
   ]
  },
  {
   "cell_type": "code",
   "execution_count": null,
   "metadata": {},
   "outputs": [],
   "source": [
    "# Calculate Driver Percents\n",
    "\n",
    "# Build Pie Charts\n",
    "\n",
    "# Save Figure\n"
   ]
  },
  {
   "cell_type": "code",
   "execution_count": null,
   "metadata": {
    "scrolled": true
   },
   "outputs": [],
   "source": [
    "# Show Figure\n",
    "plt.show()"
   ]
  },
  {
   "cell_type": "code",
   "execution_count": null,
   "metadata": {},
   "outputs": [],
   "source": []
  }
 ],
 "metadata": {
  "anaconda-cloud": {},
  "kernelspec": {
   "display_name": "Python 3",
   "language": "python",
   "name": "python3"
  },
  "language_info": {
   "codemirror_mode": {
    "name": "ipython",
    "version": 3
   },
   "file_extension": ".py",
   "mimetype": "text/x-python",
   "name": "python",
   "nbconvert_exporter": "python",
   "pygments_lexer": "ipython3",
   "version": "3.6.5"
  }
 },
 "nbformat": 4,
 "nbformat_minor": 2
}
